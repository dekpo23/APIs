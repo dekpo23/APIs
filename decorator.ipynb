{
 "cells": [
  {
   "cell_type": "code",
   "execution_count": 1,
   "id": "09c7fe35",
   "metadata": {},
   "outputs": [
    {
     "name": "stdout",
     "output_type": "stream",
     "text": [
      "<function greet_customer at 0x000002065EDD0180>\n",
      "Shopkeeper says: Welcome to our shop\n"
     ]
    }
   ],
   "source": [
    "def greet_customer():\n",
    "    return \"Welcome to our shop\"\n",
    "\n",
    "my_greetings = greet_customer\n",
    "print(my_greetings)\n",
    "\n",
    "def use_greeting(greeting_func):\n",
    "    return f\"Shopkeeper says: {greeting_func()}\"\n",
    "\n",
    "print(use_greeting(greet_customer))"
   ]
  },
  {
   "cell_type": "code",
   "execution_count": 2,
   "id": "54460bf3",
   "metadata": {},
   "outputs": [],
   "source": [
    "def add_nigerian_politeness(original_function):\n",
    "    def wrapper():\n",
    "        result = original_function()\n",
    "        return f\"Good morning ooo! {result} How is family\"\n",
    "    return wrapper\n",
    "\n",
    "def basic_greeting():\n",
    "    return \"Hello\""
   ]
  },
  {
   "cell_type": "code",
   "execution_count": 3,
   "id": "774619b1",
   "metadata": {},
   "outputs": [
    {
     "name": "stdout",
     "output_type": "stream",
     "text": [
      "Good morning ooo! Hello How is family\n"
     ]
    }
   ],
   "source": [
    "polite_greeting = add_nigerian_politeness(basic_greeting)\n",
    "print(polite_greeting())"
   ]
  },
  {
   "cell_type": "code",
   "execution_count": 4,
   "id": "81066881",
   "metadata": {},
   "outputs": [
    {
     "name": "stdout",
     "output_type": "stream",
     "text": [
      "Good morning ooo! Welcome to my provision store How is family\n"
     ]
    }
   ],
   "source": [
    "@add_nigerian_politeness\n",
    "def shop_greeting():\n",
    "    return \"Welcome to my provision store\"\n",
    "\n",
    "print(shop_greeting())"
   ]
  },
  {
   "cell_type": "code",
   "execution_count": null,
   "id": "903be49f",
   "metadata": {},
   "outputs": [],
   "source": []
  }
 ],
 "metadata": {
  "kernelspec": {
   "display_name": "backend",
   "language": "python",
   "name": "python3"
  },
  "language_info": {
   "codemirror_mode": {
    "name": "ipython",
    "version": 3
   },
   "file_extension": ".py",
   "mimetype": "text/x-python",
   "name": "python",
   "nbconvert_exporter": "python",
   "pygments_lexer": "ipython3",
   "version": "3.13.7"
  }
 },
 "nbformat": 4,
 "nbformat_minor": 5
}
